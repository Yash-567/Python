{
 "cells": [
  {
   "cell_type": "markdown",
   "metadata": {},
   "source": [
    "# Networking"
   ]
  },
  {
   "cell_type": "markdown",
   "metadata": {},
   "source": [
    "## 1) Introduction\n",
    "The term **Networking** in general is defined as the process of interacting with others to exchange information. Similarly, in terms of computers, networking is the process of *exchanging information*, whether it be from **client-client**, **client-server** or even **client to itself**.\n",
    "\n",
    "**Client**: Client is defined as that part of a software or machine which interacts with the user. For eg- the interface of any website that you see is the client side of the website. \n",
    "\n",
    "**Server**: Server is defined as that part of a software or machine which provides the service to the clients. For eg- when you search any query on Google you enter the query on the interface (client side) which is then passed to the server (server side) where the computations are done to find relevant results. The results are then again sent back to the client side for the user to see.  \n",
    "\n",
    "As seen in the above example, networking is an important concept required for exchange of information!"
   ]
  },
  {
   "cell_type": "markdown",
   "metadata": {},
   "source": [
    "###  Networking we do everyday (but don't necessarily notice): \n",
    "1. Skype: Skype user peer-to-peer (client-client) networking model in which the video input from users is recieved from one device and communicated to other devices on the call. The video input recieved is not received by the server, that is why the networking model is called peer-to-peer.\n",
    "2. Whatsapp: Whatsapp uses client-server networking model in which the chats sent from one device (client) are sent to the server for storing in the database. These chats are then sent to the other device (client) from the server.\n",
    "3. Gaming: Games like PubG and CS:Go use peer-to-peer (client-client) networking models while playing online. The movement information of one player is continuously sent to all the other players currently in the same game. This enables the other person to see other players move. \n",
    "\n",
    "#### Why do you think Whatsapp uses client-server networking model and not  peer-to-peer?\n",
    "1. Not every person is in connection to the internet (network) all the time. So in case of peer-to-peer there might be a case that the send data from one device might not be received by other.\n",
    "2. The data needs to be stored in Whatsapp servers so it is a better way to send data to server rather than the client directly."
   ]
  },
  {
   "cell_type": "markdown",
   "metadata": {},
   "source": [
    "## 2) Socket\n",
    "Socket is defined as one endpoint of a two-way communication link between two programs running on the network.\n",
    "A socket is bound to a port number so that the TCP layer can identify the application that is destined to be sent to. An endpoint is a combination of an IP address and a port number. \n",
    "\n",
    "**IP address** - All computers connected to a network are provided an IP address which acts as a unique identity for the computer.\n",
    "\n",
    "**Port number** - A port number is a communication endpoint which can help in directing the data towards a particular service (running on that particular port). It is provided along with the IP address.\n",
    "\n",
    "**TCP** - Transmission Control Protocol is a connection-oriented communications protocol that facilitates the exchange of messages between computing devices in a network."
   ]
  },
  {
   "cell_type": "code",
   "execution_count": null,
   "metadata": {},
   "outputs": [],
   "source": []
  }
 ],
 "metadata": {
  "kernelspec": {
   "display_name": "Python 3",
   "language": "python",
   "name": "python3"
  },
  "language_info": {
   "codemirror_mode": {
    "name": "ipython",
    "version": 3
   },
   "file_extension": ".py",
   "mimetype": "text/x-python",
   "name": "python",
   "nbconvert_exporter": "python",
   "pygments_lexer": "ipython3",
   "version": "3.7.3"
  }
 },
 "nbformat": 4,
 "nbformat_minor": 2
}
